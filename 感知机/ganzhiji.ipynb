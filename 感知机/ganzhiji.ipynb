{
 "cells": [
  {
   "cell_type": "code",
   "id": "initial_id",
   "metadata": {
    "collapsed": true,
    "ExecuteTime": {
     "end_time": "2024-10-19T07:35:22.176477Z",
     "start_time": "2024-10-19T07:35:22.161227Z"
    }
   },
   "source": "print(\"Dsa\")",
   "outputs": [
    {
     "name": "stdout",
     "output_type": "stream",
     "text": [
      "Dsa\n"
     ]
    }
   ],
   "execution_count": 1
  },
  {
   "metadata": {},
   "cell_type": "markdown",
   "source": "",
   "id": "ab4b1206723070de"
  },
  {
   "metadata": {},
   "cell_type": "markdown",
   "source": "",
   "id": "c7555aecc703966f"
  },
  {
   "metadata": {},
   "cell_type": "markdown",
   "source": "",
   "id": "3ce55dc39f2bb7a7"
  }
 ],
 "metadata": {
  "kernelspec": {
   "display_name": "Python 3",
   "language": "python",
   "name": "python3"
  },
  "language_info": {
   "codemirror_mode": {
    "name": "ipython",
    "version": 2
   },
   "file_extension": ".py",
   "mimetype": "text/x-python",
   "name": "python",
   "nbconvert_exporter": "python",
   "pygments_lexer": "ipython2",
   "version": "2.7.6"
  }
 },
 "nbformat": 4,
 "nbformat_minor": 5
}
